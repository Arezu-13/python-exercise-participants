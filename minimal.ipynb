{
 "cells": [
  {
   "cell_type": "markdown",
   "metadata": {},
   "source": [
    "# Interactive Python using jupyter notebooks"
   ]
  },
  {
   "cell_type": "markdown",
   "metadata": {},
   "source": [
    "- Notebooks are made of a sequence of cells\n",
    "- Cells can contain different content such as Python code, or Markdown\n",
    "- You can change the cell type in the toolbar\n",
    "- To execute a cell press \"Shift+Return\"\n",
    "- Use the tool bar to add, delete, copy, or insert cells"
   ]
  },
  {
   "cell_type": "markdown",
   "metadata": {},
   "source": [
    "(Note: to learn more about Markdown check [Daring Fireball's website](https://daringfireball.net/projects/markdown/syntax))"
   ]
  },
  {
   "cell_type": "markdown",
   "metadata": {},
   "source": [
    "## Import the Python package for numerical arrays (numpy)"
   ]
  },
  {
   "cell_type": "code",
   "execution_count": 1,
   "metadata": {},
   "outputs": [],
   "source": [
    "import numpy as np"
   ]
  },
  {
   "cell_type": "markdown",
   "metadata": {},
   "source": [
    "## Define a function that creates some statistical data"
   ]
  },
  {
   "cell_type": "code",
   "execution_count": 2,
   "metadata": {},
   "outputs": [],
   "source": [
    "def load_data():    \n",
    "    # Goalkeeper, defender, midfielder, attacker\n",
    "    possible_positions = ['GK', 'D', 'M', 'A']\n",
    "    N = 100\n",
    "    positions = []\n",
    "    heights = []\n",
    "    for i in range(0,N):\n",
    "        positions.append(possible_positions[np.random.randint(len(possible_positions))])\n",
    "        heights.append(np.random.normal(loc=180.0,scale=5.0))     #the loc argument represents the mean (μ) of the normal distribution.\n",
    "    return positions, heights"
   ]
  },
  {
   "cell_type": "markdown",
   "metadata": {},
   "source": [
    "## Read the data"
   ]
  },
  {
   "cell_type": "code",
   "execution_count": 3,
   "metadata": {},
   "outputs": [],
   "source": [
    "positions, heights = load_data()"
   ]
  },
  {
   "cell_type": "markdown",
   "metadata": {},
   "source": [
    "The objects ```positions``` and ```heights``` are lists as we can check using the Python function ```type```:"
   ]
  },
  {
   "cell_type": "code",
   "execution_count": 4,
   "metadata": {
    "collapsed": false,
    "jupyter": {
     "outputs_hidden": false
    }
   },
   "outputs": [
    {
     "name": "stdout",
     "output_type": "stream",
     "text": [
      "<class 'list'>\n",
      "<class 'list'>\n"
     ]
    }
   ],
   "source": [
    "print(type(positions))\n",
    "print(type(heights))"
   ]
  },
  {
   "cell_type": "markdown",
   "metadata": {},
   "source": [
    "Question: *How many items are inside the lists ```positions``` and ```heights```?\n",
    "\n",
    "Hint: Use the Python function ```len```. "
   ]
  },
  {
   "cell_type": "code",
   "execution_count": 5,
   "metadata": {},
   "outputs": [
    {
     "name": "stdout",
     "output_type": "stream",
     "text": [
      "100\n",
      "100\n"
     ]
    }
   ],
   "source": [
    "print(len(positions))\n",
    "print(len(heights))"
   ]
  },
  {
   "cell_type": "markdown",
   "metadata": {},
   "source": [
    "## Convert to numpy arrays"
   ]
  },
  {
   "cell_type": "code",
   "execution_count": 6,
   "metadata": {},
   "outputs": [],
   "source": [
    "np_positions = np.array(positions)\n",
    "np_heights = np.array(heights)"
   ]
  },
  {
   "cell_type": "markdown",
   "metadata": {},
   "source": [
    "Question: *what is the data type of ```np_positions``` and ```np_heights```*?<br>\n",
    "Question: *what is the shape of ```np_positions``` and ```np_heights```*?\n",
    "\n",
    "\n",
    "Hint: Numpy objects have member functions called ```dtype``` and ```shape```."
   ]
  },
  {
   "cell_type": "code",
   "execution_count": 8,
   "metadata": {
    "collapsed": false,
    "jupyter": {
     "outputs_hidden": false
    }
   },
   "outputs": [
    {
     "name": "stdout",
     "output_type": "stream",
     "text": [
      "<U2\n",
      "float64\n"
     ]
    }
   ],
   "source": [
    "print(np_positions.dtype) \n",
    "print(np_heights.dtype)   \n",
    "#<U2 means that the NumPy array np_positions contains Unicode strings with a\n",
    "#maximum length of 2 characters\n",
    "#< → Little-endian (byte order, usually not important for strings).\n",
    "#U → Unicode string data type.\n",
    "#2 → Maximum length of each string in the array (2 characters).\n",
    "#This means that positions (before conversion to a NumPy array)\n",
    "#contained short strings of 2 characters or fewer."
   ]
  },
  {
   "cell_type": "markdown",
   "metadata": {},
   "source": [
    "## Extract the heights of the goalkeepers"
   ]
  },
  {
   "cell_type": "code",
   "execution_count": 9,
   "metadata": {},
   "outputs": [],
   "source": [
    "gk_heights = np_heights[np_positions == 'GK']"
   ]
  },
  {
   "cell_type": "markdown",
   "metadata": {},
   "source": [
    "## Print the median of the goalkeepers heights"
   ]
  },
  {
   "cell_type": "code",
   "execution_count": 10,
   "metadata": {
    "collapsed": false,
    "jupyter": {
     "outputs_hidden": false
    }
   },
   "outputs": [
    {
     "name": "stdout",
     "output_type": "stream",
     "text": [
      "Median height of goalkeepers: 181.0935036339976\n"
     ]
    }
   ],
   "source": [
    "print(\"Median height of goalkeepers: \" + str(np.median(gk_heights)))"
   ]
  },
  {
   "cell_type": "markdown",
   "metadata": {},
   "source": [
    "Question: *what is the median height of all the field players*?<br>\n",
    "Question: *what is the median height of all the attackers*?<br>\n",
    "Question: *what is the median height of goalkeepers and the attackers combined?*"
   ]
  },
  {
   "cell_type": "code",
   "execution_count": 11,
   "metadata": {},
   "outputs": [
    {
     "name": "stdout",
     "output_type": "stream",
     "text": [
      "Median height of all players: 180.46315604970906\n",
      "Median height of attackers: 179.44525802414415\n",
      "Median height of goalkeepers and attackers: 181.01665048336446\n"
     ]
    }
   ],
   "source": [
    "print(\"Median height of all players: \" + str(np.median(np_heights)))\n",
    "A_heights = np_heights[np_positions == 'A']\n",
    "print(\"Median height of attackers: \" + str(np.median(A_heights)))\n",
    "comb_heights = np.concatenate((A_heights, gk_heights))\n",
    "print(\"Median height of goalkeepers and attackers: \" + str(np.median(comb_heights)))"
   ]
  },
  {
   "cell_type": "markdown",
   "metadata": {},
   "source": [
    "## More statistical tests"
   ]
  },
  {
   "cell_type": "markdown",
   "metadata": {},
   "source": [
    "Besides the ```median```, numpy als comes with the functions ```mean```, ```std```, ```min``` and ```max``` which are useful for investigating statistical data. "
   ]
  },
  {
   "cell_type": "markdown",
   "metadata": {},
   "source": [
    "Question: *Who is the shortest player (which position)*?<br>\n",
    "Question: *Who is the tallest player (which position)*?"
   ]
  },
  {
   "cell_type": "code",
   "execution_count": 12,
   "metadata": {},
   "outputs": [
    {
     "name": "stdout",
     "output_type": "stream",
     "text": [
      "Height of the hobbit:  168.15049880868986\n",
      "Height of Gandolf:  192.4582247828373\n"
     ]
    }
   ],
   "source": [
    "print(\"Height of the hobbit: \", np.min(np_heights))\n",
    "print(\"Height of Gandolf: \", np.max(np_heights))"
   ]
  },
  {
   "cell_type": "markdown",
   "metadata": {},
   "source": [
    "## Data plotting"
   ]
  },
  {
   "cell_type": "markdown",
   "metadata": {},
   "source": [
    "For plotting, we need the package matplotlib"
   ]
  },
  {
   "cell_type": "code",
   "execution_count": 13,
   "metadata": {},
   "outputs": [],
   "source": [
    "import matplotlib.pyplot as plt"
   ]
  },
  {
   "cell_type": "markdown",
   "metadata": {},
   "source": [
    "There are different display modes for matplotlib plots inside a jupyter notebook."
   ]
  },
  {
   "cell_type": "code",
   "execution_count": 14,
   "metadata": {},
   "outputs": [],
   "source": [
    "# For inline plots use\n",
    "%matplotlib inline  \n",
    "#visualizations (e.g., Matplotlib plots) that are displayed directly inside the Jupyter Notebook, rather than opening in a separate window"
   ]
  },
  {
   "cell_type": "code",
   "execution_count": 15,
   "metadata": {},
   "outputs": [],
   "source": [
    "# For inline plots with interactive capabilities use\n",
    "%matplotlib notebook"
   ]
  },
  {
   "cell_type": "code",
   "execution_count": 16,
   "metadata": {},
   "outputs": [],
   "source": [
    "%matplotlib ipympl"
   ]
  },
  {
   "cell_type": "markdown",
   "metadata": {},
   "source": [
    "Lets visualize the height distribution of the defenders"
   ]
  },
  {
   "cell_type": "code",
   "execution_count": 17,
   "metadata": {
    "collapsed": false,
    "jupyter": {
     "outputs_hidden": false
    }
   },
   "outputs": [],
   "source": [
    "d_heights = np_heights[np_positions == 'D']"
   ]
  },
  {
   "cell_type": "code",
   "execution_count": 18,
   "metadata": {
    "collapsed": false,
    "jupyter": {
     "outputs_hidden": false
    }
   },
   "outputs": [
    {
     "data": {
      "application/vnd.jupyter.widget-view+json": {
       "model_id": "b4eb51397a8341b6bc3e9563ed94ec52",
       "version_major": 2,
       "version_minor": 0
      },
      "image/png": "[encoded data removed]",
      "text/html": [
       "\n",
       "            <div style=\"display: inline-block;\">\n",
       "                <div class=\"jupyter-widgets widget-label\" style=\"text-align: center;\">\n",
       "                    Figure\n",
       "                </div>\n",
       "                <img src='data:image/png;base64,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' width=640.0/>\n",
       "            </div>\n",
       "        "
      ],
      "text/plain": [
       "Canvas(toolbar=Toolbar(toolitems=[('Home', 'Reset original view', 'home', 'home'), ('Back', 'Back to previous …"
      ]
     },
     "metadata": {},
     "output_type": "display_data"
    }
   ],
   "source": [
    "plt.figure()\n",
    "plt.hist(d_heights)\n",
    "plt.title('Defenders')\n",
    "plt.xlabel('Heights')\n",
    "plt.show()"
   ]
  },
  {
   "cell_type": "markdown",
   "metadata": {},
   "source": [
    "To figure out the tallest/shortest player, we can the max/min within each position"
   ]
  },
  {
   "cell_type": "code",
   "execution_count": 21,
   "metadata": {},
   "outputs": [],
   "source": [
    "p = ['GK', 'D', 'M', 'A']\n",
    "p_max = [np_heights[np_positions == i].max() for i in p]"
   ]
  },
  {
   "cell_type": "code",
   "execution_count": 20,
   "metadata": {
    "collapsed": false,
    "jupyter": {
     "outputs_hidden": false
    }
   },
   "outputs": [
    {
     "data": {
      "application/vnd.jupyter.widget-view+json": {
       "model_id": "97307a9c1d2a4a6a8b53ca8f336a2433",
       "version_major": 2,
       "version_minor": 0
      },
      "image/png": "[encoded data removed]",
      "text/html": [
       "\n",
       "            <div style=\"display: inline-block;\">\n",
       "                <div class=\"jupyter-widgets widget-label\" style=\"text-align: center;\">\n",
       "                    Figure\n",
       "                </div>\n",
       "                <img src='data:image/png;base64,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' width=640.0/>\n",
       "            </div>\n",
       "        "
      ],
      "text/plain": [
       "Canvas(toolbar=Toolbar(toolitems=[('Home', 'Reset original view', 'home', 'home'), ('Back', 'Back to previous …"
      ]
     },
     "metadata": {},
     "output_type": "display_data"
    }
   ],
   "source": [
    "plt.figure()\n",
    "plt.plot(range(len(p)), p_max)\n",
    "plt.gca().xaxis.set_ticks(range(len(p)))\n",
    "plt.gca().xaxis.set_ticklabels(p)\n",
    "plt.ylabel('Heights')\n",
    "plt.show()"
   ]
  },
  {
   "cell_type": "markdown",
   "metadata": {},
   "source": [
    "For inspiration on data plotting and more examples, check out the matplotlib gallery: [https://matplotlib.org/gallery.html](https://matplotlib.org/gallery.html)"
   ]
  },
  {
   "cell_type": "code",
   "execution_count": null,
   "metadata": {
    "collapsed": true,
    "jupyter": {
     "outputs_hidden": true
    }
   },
   "outputs": [],
   "source": []
  }
 ],
 "metadata": {
  "kernelspec": {
   "display_name": "Python 3 (ipykernel)",
   "language": "python",
   "name": "python3"
  },
  "language_info": {
   "codemirror_mode": {
    "name": "ipython",
    "version": 3
   },
   "file_extension": ".py",
   "mimetype": "text/x-python",
   "name": "python",
   "nbconvert_exporter": "python",
   "pygments_lexer": "ipython3",
   "version": "3.10.12"
  }
 },
 "nbformat": 4,
 "nbformat_minor": 4
}
